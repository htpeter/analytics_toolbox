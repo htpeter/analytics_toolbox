{
 "cells": [
  {
   "cell_type": "markdown",
   "metadata": {},
   "source": [
    "# analytics_toolbox\n",
    "\n",
    "> A toolbox for Analytics and Research."
   ]
  },
  {
   "cell_type": "markdown",
   "metadata": {},
   "source": [
    "## Install"
   ]
  },
  {
   "cell_type": "markdown",
   "metadata": {},
   "source": [
    "`pip install analytics_toolbox`"
   ]
  },
  {
   "cell_type": "markdown",
   "metadata": {},
   "source": [
    "## [Documentation](https://htpeter.github.io/analytics_toolbox/)\n"
   ]
  },
  {
   "cell_type": "markdown",
   "metadata": {},
   "source": [
    "## Help With Postges Connection Setup\n",
    "\n",
    "### Step 1. Formatting Your Database Config Files\n",
    "\n",
    "For example, you have the following `config.ini` file.\n",
    "```\n",
    "[dev_db]\n",
    "hostname = dev.yourhost.com\n",
    "port = 5432\n",
    "database = dbname \n",
    "user = htpeter\n",
    "\n",
    "[prod_db]\n",
    "hostname = prod.yourhost.com\n",
    "port = 5432\n",
    "database = dbname \n",
    "user = htpeter\n",
    "```\n",
    "\n",
    "### Step 2. Ensuring you have .pgpass setup\n",
    "\n",
    "You don't pass passwords to `analytics_toolbox` in its current form. Instead it leverages [pgpass](https://www.postgresql.org/docs/9.3/libpq-pgpass.html). Simply paste a record for each database in a text file `~/.pgpass` with the following information.\n",
    "\n",
    "```\n",
    "hostname:port:database:username:password\n",
    "```\n",
    "\n",
    "When `psycopg2` or even `psql` attempt to connect to a server, it will look in this file and if it finds matching server information, it will use that password.\n",
    "\n",
    "Ensure you limit the permissions on this file using `chmod 600 ~/.pgpass`"
   ]
  },
  {
   "cell_type": "markdown",
   "metadata": {},
   "source": [
    "## Usage Examples"
   ]
  },
  {
   "cell_type": "code",
   "execution_count": null,
   "metadata": {},
   "outputs": [],
   "source": [
    "import analytics_toolbox as atb"
   ]
  },
  {
   "cell_type": "code",
   "execution_count": null,
   "metadata": {},
   "outputs": [],
   "source": []
  }
 ],
 "metadata": {
  "kernelspec": {
   "display_name": "Python 3",
   "language": "python",
   "name": "python3"
  }
 },
 "nbformat": 4,
 "nbformat_minor": 2
}
