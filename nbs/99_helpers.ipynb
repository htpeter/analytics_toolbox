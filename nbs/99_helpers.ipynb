{
 "cells": [
  {
   "cell_type": "code",
   "execution_count": null,
   "metadata": {},
   "outputs": [],
   "source": [
    "# default_exp helpers"
   ]
  },
  {
   "cell_type": "code",
   "execution_count": null,
   "metadata": {},
   "outputs": [],
   "source": [
    "# export \n",
    "\n",
    "import _string\n",
    "\n",
    "def get_str_var_names(yourstring):\n",
    "    return [fname for _, fname, _, _ in _string.formatter_parser(yourstring) if fname]\n",
    "\n",
    "\n",
    "def open_and_run(sql_file, db_obj, commit = False):\n",
    "    if hasattr(db_obj, 'qry'):\n",
    "        with open(sql_file, 'r') as f:\n",
    "            sql = f.read()\n",
    "            return getattr(db_obj, 'qry')(sql, commit)\n",
    "    else:\n",
    "        raise Exception(f\"Did not pass database object when running {sql_file}\")"
   ]
  }
 ],
 "metadata": {
  "kernelspec": {
   "display_name": "Python 3",
   "language": "python",
   "name": "python3"
  }
 },
 "nbformat": 4,
 "nbformat_minor": 2
}
