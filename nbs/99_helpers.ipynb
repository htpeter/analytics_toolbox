{
 "cells": [
  {
   "cell_type": "code",
   "execution_count": null,
   "metadata": {},
   "outputs": [],
   "source": [
    "# default_exp helpers\n",
    "# default_cls_lvl 3"
   ]
  },
  {
   "cell_type": "code",
   "execution_count": null,
   "metadata": {},
   "outputs": [],
   "source": [
    "# hide\n",
    "# not a dep but we need it for show_doc\n",
    "from nbdev.showdoc import show_doc\n",
    "import pprint"
   ]
  },
  {
   "cell_type": "code",
   "execution_count": null,
   "metadata": {},
   "outputs": [],
   "source": [
    "# export \n",
    "\n",
    "import _string\n",
    "import calendar\n",
    "import datetime\n"
   ]
  },
  {
   "cell_type": "code",
   "execution_count": null,
   "metadata": {},
   "outputs": [],
   "source": [
    "# export \n",
    "\n",
    "def get_str_var_names(yourstring):\n",
    "    return [fname for _, fname, _, _ in _string.formatter_parser(yourstring) if fname]\n",
    "\n",
    "\n",
    "def open_and_run(sql_file, db_obj, commit = False):\n",
    "    if hasattr(db_obj, 'qry'):\n",
    "        with open(sql_file, 'r') as f:\n",
    "            sql = f.read()\n",
    "            return getattr(db_obj, 'qry')(sql, commit)\n",
    "    else:\n",
    "        raise Exception(f\"Did not pass database object when running {sql_file}\")"
   ]
  },
  {
   "cell_type": "code",
   "execution_count": null,
   "metadata": {},
   "outputs": [],
   "source": [
    "# export\n",
    "\n",
    "def current_datetime_dict(current_time=datetime.datetime.now()):\n",
    "    \"\"\"\n",
    "    Creates a dictionary with useful datetime formats. \n",
    "    \"\"\"\n",
    "    cy = datetime.datetime.now().year\n",
    "    cm = datetime.datetime.now().strftime(\"%m\")\n",
    "    now = current_time\n",
    "\n",
    "    if now.month == 1:\n",
    "        pm_d = datetime.datetime(now.year - 1, 12, 1)\n",
    "        pm = datetime.datetime(now.year - 1, 12, 1).strftime(\"%m\")\n",
    "        mrange = calendar.monthrange(pm_d.year, pm_d.month)\n",
    "        iso_mstart = str(datetime.datetime(pm_d.year, pm_d.month, 1))\n",
    "        iso_mend = str(datetime.datetime(pm_d.year, pm_d.month, mrange[1]))\n",
    "    else:\n",
    "        pm_d = datetime.datetime(now.year, now.month - 1, 1)\n",
    "        pm = datetime.datetime(now.year, now.month - 1, 1).strftime(\"%m\")\n",
    "        mrange = calendar.monthrange(pm_d.year, pm_d.month)\n",
    "        iso_mstart = str(datetime.datetime(pm_d.year, pm_d.month, 1))\n",
    "        iso_mend = str(datetime.datetime(pm_d.year, pm_d.month, mrange[1]))\n",
    "\n",
    "    data = {\n",
    "        \"now\": str(now),\n",
    "        \"past_iso_start\": iso_mstart,\n",
    "        \"past_iso_end\": iso_mend,\n",
    "        \"current_yearmo\": str(now.year) + str(now.strftime(\"%m\")),\n",
    "        \"past_yearmo\": str(pm_d.year) + str(pm),\n",
    "        \"current_year_mm\": str(now.year) + \"-\" + str(now.strftime(\"%m\")),\n",
    "        \"past_year_mm\": str(pm_d.year) + \"-\" + str(pm_d.strftime(\"%m\")),\n",
    "    }\n",
    "\n",
    "    return data"
   ]
  },
  {
   "cell_type": "code",
   "execution_count": null,
   "metadata": {},
   "outputs": [
    {
     "data": {
      "text/markdown": [
       "<h4 id=\"current_datetime_dict\" class=\"doc_header\"><code>current_datetime_dict</code><a href=\"__main__.py#L3\" class=\"source_link\" style=\"float:right\">[source]</a></h4>\n",
       "\n",
       "> <code>current_datetime_dict</code>(**`current_time`**=*`datetime.datetime(2020, 2, 12, 11, 3, 44, 599232)`*)\n",
       "\n",
       "Creates a dictionary with useful datetime formats. "
      ],
      "text/plain": [
       "<IPython.core.display.Markdown object>"
      ]
     },
     "metadata": {},
     "output_type": "display_data"
    }
   ],
   "source": [
    "show_doc(current_datetime_dict)"
   ]
  },
  {
   "cell_type": "code",
   "execution_count": null,
   "metadata": {},
   "outputs": [
    {
     "name": "stdout",
     "output_type": "stream",
     "text": [
      "{   'current_year_mm': '2020-02',\n",
      "    'current_yearmo': '202002',\n",
      "    'now': '2020-02-12 11:03:44.599232',\n",
      "    'past_iso_end': '2020-01-31 00:00:00',\n",
      "    'past_iso_start': '2020-01-01 00:00:00',\n",
      "    'past_year_mm': '2020-01',\n",
      "    'past_yearmo': '202001'}\n"
     ]
    }
   ],
   "source": [
    "# example using current datetime\n",
    "pprint.pprint(current_datetime_dict(), indent = 4)"
   ]
  },
  {
   "cell_type": "code",
   "execution_count": null,
   "metadata": {},
   "outputs": [
    {
     "name": "stdout",
     "output_type": "stream",
     "text": [
      "{   'current_year_mm': '2019-01',\n",
      "    'current_yearmo': '201901',\n",
      "    'now': '2019-01-01 00:00:00',\n",
      "    'past_iso_end': '2018-12-31 00:00:00',\n",
      "    'past_iso_start': '2018-12-01 00:00:00',\n",
      "    'past_year_mm': '2018-12',\n",
      "    'past_yearmo': '201812'}\n"
     ]
    }
   ],
   "source": [
    "# example using current datetime\n",
    "pprint.pprint(current_datetime_dict(datetime.datetime(2019,1,1)), indent = 4)"
   ]
  }
 ],
 "metadata": {
  "kernelspec": {
   "display_name": "Python 3",
   "language": "python",
   "name": "python3"
  }
 },
 "nbformat": 4,
 "nbformat_minor": 2
}
