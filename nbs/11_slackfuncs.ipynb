{
 "cells": [
  {
   "cell_type": "code",
   "execution_count": null,
   "metadata": {},
   "outputs": [],
   "source": [
    "# default_exp slackfuncs\n",
    "# default_cls_lvl 3\n",
    "\n",
    "%load_ext autoreload\n",
    "%autoreload 2"
   ]
  },
  {
   "cell_type": "code",
   "execution_count": null,
   "metadata": {},
   "outputs": [],
   "source": [
    "# hide\n",
    "\n",
    "# not a dep but we need it for show_doc\n",
    "from nbdev.showdoc import show_doc"
   ]
  },
  {
   "cell_type": "markdown",
   "metadata": {},
   "source": [
    "# `slackfuncs` \n",
    "\n",
    "> This interface builds out straightforward post-only Slack functionality. When you ask yourself \"Should I make a Slack Alert for this?\", this library should  help you answer  \"Yes because its  easy and  quick\"."
   ]
  },
  {
   "cell_type": "code",
   "execution_count": null,
   "metadata": {},
   "outputs": [],
   "source": [
    "# export\n",
    "\n",
    "import os\n",
    "import configparser\n",
    "import pandas as pd \n",
    "import slack \n",
    "\n",
    "ENDPOINT = 'https://hooks.slack.com/services'\n",
    "\n",
    "class SlackClient:\n",
    "    def __init__(self, config_file, config_section):\n",
    "        self.client = self.get_bot_slack_client(config_file = config_file)\n",
    "        \n",
    "    def get_bot_slack_client(self, config_file):\n",
    "        config = configparser.ConfigParser()\n",
    "        config.read(config_file)\n",
    "        client = slack.WebClient(config[config_section]['bot_user_oauth_token'])\n",
    "        return client \n",
    "\n",
    "    def send_message(self, channel, text):\n",
    "        self.client.chat_postMessage(\n",
    "                channel = channel, \n",
    "                text = text)\n"
   ]
  },
  {
   "cell_type": "code",
   "execution_count": null,
   "metadata": {},
   "outputs": [
    {
     "data": {
      "text/markdown": [
       "<h2 id=\"SlackClient\" class=\"doc_header\"><code>class</code> <code>SlackClient</code><a href=\"\" class=\"source_link\" style=\"float:right\">[source]</a></h2>\n",
       "\n",
       "> <code>SlackClient</code>(**`config_file`**, **`config_section`**)\n",
       "\n"
      ],
      "text/plain": [
       "<IPython.core.display.Markdown object>"
      ]
     },
     "metadata": {},
     "output_type": "display_data"
    }
   ],
   "source": [
    "show_doc(SlackClient)"
   ]
  },
  {
   "cell_type": "markdown",
   "metadata": {},
   "source": [
    "`BotUser` is just a simple interface for Slack.  If you wanna get fancy, inherit from it 😁."
   ]
  },
  {
   "cell_type": "code",
   "execution_count": null,
   "metadata": {},
   "outputs": [],
   "source": [
    "a_bot = SlackClient(config_file = '/Users/kouvaris_peter/config.ini', \n",
    "                    config_section = 'company_slack')"
   ]
  },
  {
   "cell_type": "code",
   "execution_count": null,
   "metadata": {},
   "outputs": [],
   "source": [
    "# export \n",
    "\n",
    "def users_dataframe(client):\n",
    "    \"\"\"\n",
    "    Gets dataframe of User Information.\n",
    "    \n",
    "    \"\"\"\n",
    "    data = []\n",
    "    users_list = client.users_list()\n",
    "    for user in users_list['members']:\n",
    "        data.append(user)\n",
    "    return pd.DataFrame(data)\n"
   ]
  },
  {
   "cell_type": "code",
   "execution_count": null,
   "metadata": {},
   "outputs": [
    {
     "data": {
      "text/markdown": [
       "<h4 id=\"users_dataframe\" class=\"doc_header\"><code>users_dataframe</code><a href=\"__main__.py#L3\" class=\"source_link\" style=\"float:right\">[source]</a></h4>\n",
       "\n",
       "> <code>users_dataframe</code>(**`client`**)\n",
       "\n",
       "Gets dataframe of User Information."
      ],
      "text/plain": [
       "<IPython.core.display.Markdown object>"
      ]
     },
     "metadata": {},
     "output_type": "display_data"
    }
   ],
   "source": [
    "show_doc(users_dataframe)"
   ]
  },
  {
   "cell_type": "markdown",
   "metadata": {},
   "source": [
    "Our bot has its Slack Client initialized at `slack.client`"
   ]
  },
  {
   "cell_type": "code",
   "execution_count": null,
   "metadata": {},
   "outputs": [],
   "source": [
    "# export\n",
    "\n",
    "def add_slack_user_ids_to_message(msg: str, slack_user_map: dict) -> str:\n",
    "    for replacable_name, slack_username in slack_user_map.items():\n",
    "        msg = msg.replace(replacable_name, '<@'+ slack_username + '>')\n",
    "    return msg "
   ]
  },
  {
   "cell_type": "code",
   "execution_count": null,
   "metadata": {},
   "outputs": [],
   "source": []
  },
  {
   "cell_type": "code",
   "execution_count": null,
   "metadata": {},
   "outputs": [],
   "source": [
    "example_message = \"\"\"\n",
    "    Hello mom it is your son $Peter$\n",
    "    \"\"\"\n",
    "slack\n",
    "\n",
    "add_slack_user_ids_to_message()"
   ]
  },
  {
   "cell_type": "code",
   "execution_count": null,
   "metadata": {},
   "outputs": [],
   "source": []
  }
 ],
 "metadata": {
  "kernelspec": {
   "display_name": "Python 3",
   "language": "python",
   "name": "python3"
  }
 },
 "nbformat": 4,
 "nbformat_minor": 2
}
