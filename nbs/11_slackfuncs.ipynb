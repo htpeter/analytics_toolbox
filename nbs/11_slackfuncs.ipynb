{
 "cells": [
  {
   "cell_type": "code",
   "execution_count": null,
   "metadata": {},
   "outputs": [],
   "source": [
    "# default_exp slackfuncs"
   ]
  },
  {
   "cell_type": "code",
   "execution_count": null,
   "metadata": {},
   "outputs": [],
   "source": [
    "# export\n",
    "\"\"\"\n",
    "useful slack functions.\n",
    "\n",
    "Use <@userid> to tag a user in a message.\n",
    "\"\"\"\n",
    "\n",
    "import os\n",
    "import configparser\n",
    "import pandas as pd \n",
    "import slack \n",
    "\n",
    "ENDPOINT = 'https://hooks.slack.com/services'\n",
    "\n",
    "class BotUser:\n",
    "    def __init__(self, config_file):\n",
    "        self.client = self.get_bot_slack_client(config_file = config_file)\n",
    "        \n",
    "    def get_bot_slack_client(self, config_file = 'config.ini'):\n",
    "        config = configparser.ConfigParser()\n",
    "        config.read(config_file)\n",
    "        client = slack.WebClient(config['slack']['bot_user_oauth_token'])\n",
    "        return client \n",
    "\n",
    "    def send_message(self, channel, text):\n",
    "        self.client.chat_postMessage(channel = channel, \n",
    "                                     text = text)\n",
    "\n",
    "def users_dataframe(client):\n",
    "    \"\"\"\n",
    "    Gets dataframe of User Information.\n",
    "    \"\"\"\n",
    "    data = []\n",
    "    users_list = client.users_list()\n",
    "    for user in users_list['members']:\n",
    "        data.append(user)\n",
    "    return pd.DataFrame(data)\n",
    "\n",
    "if __name__ == '__main__':\n",
    "    bot = BotUser()\n",
    "    users = users_dataframe(bot.client)\n"
   ]
  }
 ],
 "metadata": {
  "kernelspec": {
   "display_name": "Python 3",
   "language": "python",
   "name": "python3"
  }
 },
 "nbformat": 4,
 "nbformat_minor": 2
}
